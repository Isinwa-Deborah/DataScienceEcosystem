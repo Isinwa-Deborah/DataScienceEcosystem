{
 "cells": [
  {
   "cell_type": "markdown",
   "id": "b2ac85a2-df72-4bd2-a022-1d89af9dee23",
   "metadata": {},
   "source": [
    "# Data Science Tools and Ecosystem"
   ]
  },
  {
   "cell_type": "markdown",
   "id": "5b75fc79-9cfc-4ca0-aae1-b1388679f8f6",
   "metadata": {},
   "source": [
    "In this notebook, Data Science Tools and Ecosystem are summarized."
   ]
  },
  {
   "cell_type": "markdown",
   "id": "0bef10d0-5adf-49f8-a5f1-6646509f1a5e",
   "metadata": {},
   "source": [
    "**Objectives:**\n",
    "\n",
    "+ List popular languages for Data Science\n",
    "+ List open-source data management tools\n",
    "+ List data visualization tools\n",
    "+ Define a Jupyter Notebook\n",
    "+ List the R data visualization packages"
   ]
  },
  {
   "cell_type": "markdown",
   "id": "473189dc-02d4-4a10-ac75-080002ead904",
   "metadata": {},
   "source": [
    "Some of the popular languages that Data Scientists use are:\n",
    "\n",
    "1. Python\n",
    "2. R\n",
    "3. SQL\n",
    "4. Julia"
   ]
  },
  {
   "cell_type": "markdown",
   "id": "950089e0-7030-438a-8e06-23c7e3fda7de",
   "metadata": {},
   "source": [
    "Some of the commonly used libraries used by Data Scientists include:\n",
    "\n",
    "1. NumPy\n",
    "2. Matplotlib\n",
    "3. PyTorch\n",
    "4. Seaborn"
   ]
  },
  {
   "cell_type": "markdown",
   "id": "a8c52e47-c516-415d-9962-b3661610ab3f",
   "metadata": {},
   "source": [
    "| Data Science Tools |\n",
    "| ------------------ |\n",
    "| RStudio |\n",
    "| JupyterLite |\n",
    "| GoogleColab |"
   ]
  },
  {
   "cell_type": "markdown",
   "id": "58fa4d0a-12bb-42da-a172-96e119bd8c2b",
   "metadata": {},
   "source": [
    "### Below are a few examples of evaluating arithmetic expressions in Python"
   ]
  },
  {
   "cell_type": "code",
   "execution_count": 3,
   "id": "4690b0b3-6433-4965-bcf2-6553b1a2e0d1",
   "metadata": {
    "tags": []
   },
   "outputs": [
    {
     "data": {
      "text/plain": [
       "17"
      ]
     },
     "execution_count": 3,
     "metadata": {},
     "output_type": "execute_result"
    }
   ],
   "source": [
    "# This a simple arithmetic expression to mutiply then add integers\n",
    "\n",
    "(3*4)+5"
   ]
  },
  {
   "cell_type": "code",
   "execution_count": 4,
   "id": "acc5baa5-2839-408f-948c-81e0f9105f0c",
   "metadata": {
    "tags": []
   },
   "outputs": [
    {
     "name": "stdout",
     "output_type": "stream",
     "text": [
      "3.3333333333333335\n"
     ]
    }
   ],
   "source": [
    "# This will convert 200 minutes to hours by diving by 60\n",
    "\n",
    "minutes = 200\n",
    "hour = minutes / 60\n",
    "print(hour)"
   ]
  },
  {
   "cell_type": "markdown",
   "id": "cfdcb603-e134-4ad0-bfb1-3cc0554f91c4",
   "metadata": {},
   "source": [
    "## Author\n",
    "\n",
    "Deborah Chinonyerem Isinwa-Iheme"
   ]
  },
  {
   "cell_type": "code",
   "execution_count": null,
   "id": "b8091082-7773-4943-8893-b1991875d729",
   "metadata": {},
   "outputs": [],
   "source": []
  }
 ],
 "metadata": {
  "kernelspec": {
   "display_name": "Python",
   "language": "python",
   "name": "conda-env-python-py"
  },
  "language_info": {
   "codemirror_mode": {
    "name": "ipython",
    "version": 3
   },
   "file_extension": ".py",
   "mimetype": "text/x-python",
   "name": "python",
   "nbconvert_exporter": "python",
   "pygments_lexer": "ipython3",
   "version": "3.7.12"
  }
 },
 "nbformat": 4,
 "nbformat_minor": 5
}
